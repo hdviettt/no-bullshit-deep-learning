{
 "cells": [
  {
   "cell_type": "markdown",
   "id": "4f6e97bd",
   "metadata": {},
   "source": [
    "# 1. SETUP AND BASICS"
   ]
  },
  {
   "cell_type": "markdown",
   "id": "908b8927",
   "metadata": {},
   "source": [
    "If no torch yet,\n",
    "\n",
    "```\n",
    "!pip install torch\n",
    "```"
   ]
  },
  {
   "cell_type": "code",
   "execution_count": 1,
   "id": "9706e5f7",
   "metadata": {},
   "outputs": [],
   "source": [
    "import torch"
   ]
  },
  {
   "cell_type": "markdown",
   "id": "5d0cf93d",
   "metadata": {},
   "source": [
    "## 1.1. What is a \"tensor\"?"
   ]
  },
  {
   "cell_type": "code",
   "execution_count": 19,
   "id": "9a74a63f",
   "metadata": {},
   "outputs": [
    {
     "data": {
      "text/plain": [
       "[0, 1, 2, 3, 4, 5, 6, 7, 8, 9, 10, 11]"
      ]
     },
     "execution_count": 19,
     "metadata": {},
     "output_type": "execute_result"
    }
   ],
   "source": [
    "# python range returns a list from 0 to 11\n",
    "\n",
    "list(range(12))"
   ]
  },
  {
   "cell_type": "markdown",
   "id": "a519401b",
   "metadata": {},
   "source": [
    "Tensor is an *n-th dimensional array*.\n",
    "\n",
    "This is not new. A simple array like **[1, 2, 3]** is a tensor with *1 dimension and 3 elements* (1x3). We know this as a **vector**.\n",
    "\n",
    "An array that looks like this:\n",
    "\n",
    "```Python\n",
    "array = [[0, 1, 2],[3, 4, 5]]\n",
    "```\n",
    "\n",
    "||column 1|column 2|column3| \n",
    "|-----|-------|------|------|\n",
    "|row 1|0|1|2| \n",
    "|row 2|3|4|5|\n",
    "\n",
    "-- is a *2 dimensional tensor with 2 rows and 3 columns* (2x3). We know this as a **matrix**."
   ]
  },
  {
   "cell_type": "code",
   "execution_count": null,
   "id": "905195e0",
   "metadata": {},
   "outputs": [
    {
     "data": {
      "text/plain": [
       "tensor([ 0.,  1.,  2.,  3.,  4.,  5.,  6.,  7.,  8.,  9., 10., 11.])"
      ]
     },
     "execution_count": 2,
     "metadata": {},
     "output_type": "execute_result"
    }
   ],
   "source": [
    "'''\n",
    "So 'arange' is torch's version of 'range', but returns a tensor instead of list.\n",
    "'''\n",
    "\n",
    "x = torch.arange(12, dtype=torch.float32)\n",
    "x"
   ]
  },
  {
   "cell_type": "code",
   "execution_count": null,
   "id": "52dde6c2",
   "metadata": {},
   "outputs": [
    {
     "data": {
      "text/plain": [
       "12"
      ]
     },
     "execution_count": 3,
     "metadata": {},
     "output_type": "execute_result"
    }
   ],
   "source": [
    "'''\n",
    "\"numel\" means \"number of elements\", which is like Python's \"len\".\n",
    "'''\n",
    "\n",
    "x.numel()"
   ]
  },
  {
   "cell_type": "markdown",
   "id": "db2bd1c9",
   "metadata": {},
   "source": [
    "## 1.2. The shape of a tensor"
   ]
  },
  {
   "cell_type": "code",
   "execution_count": null,
   "id": "193a2eaa",
   "metadata": {},
   "outputs": [
    {
     "data": {
      "text/plain": [
       "torch.Size([12])"
      ]
     },
     "execution_count": 4,
     "metadata": {},
     "output_type": "execute_result"
    }
   ],
   "source": [
    "'''\n",
    "pretty straightforward, shape describes the tensor's dimentions. In this case, it's a 1D tensor with 12 elements. We also call this a vector.\n",
    "'''\n",
    "\n",
    "x.shape"
   ]
  },
  {
   "cell_type": "code",
   "execution_count": null,
   "id": "bbca5693",
   "metadata": {},
   "outputs": [
    {
     "data": {
      "text/plain": [
       "tensor([[ 0.,  1.,  2.,  3.],\n",
       "        [ 4.,  5.,  6.,  7.],\n",
       "        [ 8.,  9., 10., 11.]])"
      ]
     },
     "execution_count": 5,
     "metadata": {},
     "output_type": "execute_result"
    }
   ],
   "source": [
    "'''\n",
    "reshape transforms the dimensions of a tensor, but keep the same elements. \n",
    "Here, we transform 1D - 12 elements into 2D - 3 rows 4 columns.\n",
    "The number of elements is still 12.\n",
    "'''\n",
    "\n",
    "X = x.reshape(3, 4)\n",
    "X"
   ]
  },
  {
   "cell_type": "markdown",
   "id": "4e7ff241",
   "metadata": {},
   "source": [
    "Let's call:\n",
    "- number of tensor elements: n\n",
    "- shape_width: w\n",
    "- shape_height: h\n",
    "\n",
    "We can infer that:\n",
    "w = n / h\n",
    "h = n / w\n",
    "\n",
    "We can use -1 as a placeholder, and torch will calculate it for us."
   ]
  },
  {
   "cell_type": "code",
   "execution_count": null,
   "id": "f4e1160a",
   "metadata": {},
   "outputs": [
    {
     "data": {
      "text/plain": [
       "tensor([[ 0.,  1.,  2.],\n",
       "        [ 3.,  4.,  5.],\n",
       "        [ 6.,  7.,  8.],\n",
       "        [ 9., 10., 11.]])"
      ]
     },
     "execution_count": 20,
     "metadata": {},
     "output_type": "execute_result"
    }
   ],
   "source": [
    "'''\n",
    "Let's change our tensor from 2D(3, 4) to 2D(4, 3) by typing (4, -1).\n",
    "Torch will calculate -1 is 3 from n/w (12 / 4 = 3)\n",
    "'''\n",
    "\n",
    "x = x.reshape(4, -1)\n",
    "x"
   ]
  },
  {
   "cell_type": "code",
   "execution_count": null,
   "id": "f6dc0871",
   "metadata": {},
   "outputs": [
    {
     "data": {
      "text/plain": [
       "tensor([[[0., 0., 0., 0.],\n",
       "         [0., 0., 0., 0.],\n",
       "         [0., 0., 0., 0.]],\n",
       "\n",
       "        [[0., 0., 0., 0.],\n",
       "         [0., 0., 0., 0.],\n",
       "         [0., 0., 0., 0.]]])"
      ]
     },
     "execution_count": 6,
     "metadata": {},
     "output_type": "execute_result"
    }
   ],
   "source": [
    "'''\n",
    "This generates a 3D tensor (like a cube) with 2 layers, each having 3 rows and 4 columns, filled with zeros.\n",
    "'''\n",
    "\n",
    "torch.zeros((2, 3, 4))"
   ]
  },
  {
   "cell_type": "code",
   "execution_count": 7,
   "id": "fcab71f8",
   "metadata": {},
   "outputs": [
    {
     "data": {
      "text/plain": [
       "tensor([[[1., 1., 1., 1.],\n",
       "         [1., 1., 1., 1.],\n",
       "         [1., 1., 1., 1.]],\n",
       "\n",
       "        [[1., 1., 1., 1.],\n",
       "         [1., 1., 1., 1.],\n",
       "         [1., 1., 1., 1.]]])"
      ]
     },
     "execution_count": 7,
     "metadata": {},
     "output_type": "execute_result"
    }
   ],
   "source": [
    "torch.ones((2, 3, 4))"
   ]
  },
  {
   "cell_type": "code",
   "execution_count": null,
   "id": "15b4ecd7",
   "metadata": {},
   "outputs": [
    {
     "data": {
      "text/plain": [
       "tensor([[ 0.0549, -0.0112, -0.2160, -0.7329],\n",
       "        [-0.7643,  0.4343, -0.2090,  0.4878],\n",
       "        [ 0.0269,  0.3261,  1.1710, -0.4812]])"
      ]
     },
     "execution_count": 8,
     "metadata": {},
     "output_type": "execute_result"
    }
   ],
   "source": [
    "'''A 2D tensor with 3 rows and 4 columns filled with random numbers.  We also call 2D tensors matrices.'''\n",
    "\n",
    "torch.randn(3, 4)"
   ]
  },
  {
   "cell_type": "code",
   "execution_count": null,
   "id": "92de401a",
   "metadata": {},
   "outputs": [
    {
     "data": {
      "text/plain": [
       "tensor([[2, 1, 4, 3],\n",
       "        [1, 2, 3, 4],\n",
       "        [4, 3, 2, 1]])"
      ]
     },
     "execution_count": 9,
     "metadata": {},
     "output_type": "execute_result"
    }
   ],
   "source": [
    "'''\n",
    "Looking closely at this.\n",
    "It's a 1D tensor with 3 elements.\n",
    "Each element is a 1D tensor with 4 elements.\n",
    "'''\n",
    "\n",
    "torch.tensor([[2, 1, 4, 3], [1, 2, 3, 4], [4, 3, 2, 1]])"
   ]
  },
  {
   "cell_type": "markdown",
   "id": "eec98edc",
   "metadata": {},
   "source": [
    "# 2. Tensor indexing"
   ]
  },
  {
   "cell_type": "markdown",
   "id": "636b657c",
   "metadata": {},
   "source": [
    "Tensor indexing is not too different from indexing arrays, just with more dimensions most of the time.\n",
    "\n",
    "\n",
    "Let's revisit our x tensor."
   ]
  },
  {
   "cell_type": "code",
   "execution_count": 21,
   "id": "52ce31c5",
   "metadata": {},
   "outputs": [
    {
     "data": {
      "text/plain": [
       "tensor([[ 0.,  1.,  2.],\n",
       "        [ 3.,  4.,  5.],\n",
       "        [ 6.,  7.,  8.],\n",
       "        [ 9., 10., 11.]])"
      ]
     },
     "execution_count": 21,
     "metadata": {},
     "output_type": "execute_result"
    }
   ],
   "source": [
    "x"
   ]
  },
  {
   "cell_type": "markdown",
   "id": "cd241034",
   "metadata": {},
   "source": [
    "We can access the third row *[6, 7, 8]* by writing\n",
    "\n",
    "```Python\n",
    "x[2] ## since indexing starts at 0\n",
    "```"
   ]
  },
  {
   "cell_type": "code",
   "execution_count": 22,
   "id": "1d959259",
   "metadata": {},
   "outputs": [
    {
     "data": {
      "text/plain": [
       "tensor([6., 7., 8.])"
      ]
     },
     "execution_count": 22,
     "metadata": {},
     "output_type": "execute_result"
    }
   ],
   "source": [
    "x[2]"
   ]
  },
  {
   "cell_type": "markdown",
   "id": "b73c3247",
   "metadata": {},
   "source": [
    "Let's retrieve the last row by\n",
    "\n",
    "```Python\n",
    "x[-1]\n",
    "```"
   ]
  },
  {
   "cell_type": "code",
   "execution_count": 23,
   "id": "337bda71",
   "metadata": {},
   "outputs": [
    {
     "data": {
      "text/plain": [
       "tensor([ 9., 10., 11.])"
      ]
     },
     "execution_count": 23,
     "metadata": {},
     "output_type": "execute_result"
    }
   ],
   "source": [
    "x[-1]"
   ]
  },
  {
   "cell_type": "markdown",
   "id": "0ac4b8ca",
   "metadata": {},
   "source": [
    "How about the last 2 rows? Or the second row till the second to last? We use a the \":\" to indicates:\n",
    "\n",
    "```Python\n",
    "[:n] ## all elements from the beginning up to n\n",
    "[n:] ## n and all elements after n till the end.\n",
    "\n",
    "# In our case:\n",
    "x[-2:] ## 'All elements from the second to last row until the end'\n",
    "x[0:-2] ## 'All elements from the second row to the second-to-last row.\n",
    "```"
   ]
  },
  {
   "cell_type": "code",
   "execution_count": 27,
   "id": "232aaff2",
   "metadata": {},
   "outputs": [
    {
     "data": {
      "text/plain": [
       "(tensor([[ 6.,  7.,  8.],\n",
       "         [ 9., 10., 11.]]),\n",
       " tensor([[0., 1., 2.],\n",
       "         [3., 4., 5.]]))"
      ]
     },
     "execution_count": 27,
     "metadata": {},
     "output_type": "execute_result"
    }
   ],
   "source": [
    "x[-2:], x[0:-2]"
   ]
  },
  {
   "cell_type": "markdown",
   "id": "666d421e",
   "metadata": {},
   "source": [
    "We can write the elements, too. \n",
    "\n",
    "Let's replace the *first element* of the *third row (3, 1)* with the number 80"
   ]
  },
  {
   "cell_type": "code",
   "execution_count": 28,
   "id": "f2cc7076",
   "metadata": {},
   "outputs": [
    {
     "data": {
      "text/plain": [
       "tensor([[ 0.,  1.,  2.],\n",
       "        [ 3.,  4.,  5.],\n",
       "        [ 6.,  7.,  8.],\n",
       "        [ 9., 10., 11.]])"
      ]
     },
     "execution_count": 28,
     "metadata": {},
     "output_type": "execute_result"
    }
   ],
   "source": [
    "x"
   ]
  },
  {
   "cell_type": "code",
   "execution_count": 29,
   "id": "9c09fcbc",
   "metadata": {},
   "outputs": [
    {
     "data": {
      "text/plain": [
       "tensor([[ 0.,  1.,  2.],\n",
       "        [ 3.,  4.,  5.],\n",
       "        [ 6.,  7.,  8.],\n",
       "        [ 9., 80., 11.]])"
      ]
     },
     "execution_count": 29,
     "metadata": {},
     "output_type": "execute_result"
    }
   ],
   "source": [
    "x[3, 1] = 80\n",
    "x"
   ]
  },
  {
   "cell_type": "markdown",
   "id": "eef2638c",
   "metadata": {},
   "source": [
    "# 3. Tensor operations"
   ]
  }
 ],
 "metadata": {
  "kernelspec": {
   "display_name": "Python 3",
   "language": "python",
   "name": "python3"
  },
  "language_info": {
   "codemirror_mode": {
    "name": "ipython",
    "version": 3
   },
   "file_extension": ".py",
   "mimetype": "text/x-python",
   "name": "python",
   "nbconvert_exporter": "python",
   "pygments_lexer": "ipython3",
   "version": "3.13.3"
  }
 },
 "nbformat": 4,
 "nbformat_minor": 5
}
